{
  "nbformat": 4,
  "nbformat_minor": 0,
  "metadata": {
    "colab": {
      "name": "NLP_A1.ipynb",
      "provenance": []
    },
    "kernelspec": {
      "name": "python3",
      "display_name": "Python 3"
    },
    "accelerator": "GPU"
  },
  "cells": [
    {
      "cell_type": "code",
      "metadata": {
        "id": "eO7_jkQj9ah8",
        "colab_type": "code",
        "colab": {
          "base_uri": "https://localhost:8080/",
          "height": 68
        },
        "outputId": "045777e7-02e4-469d-9449-ae1881aec2d1"
      },
      "source": [
        "## Download NLTK\n",
        "\n",
        "import nltk\n",
        "nltk.download('punkt')"
      ],
      "execution_count": 9,
      "outputs": [
        {
          "output_type": "stream",
          "text": [
            "[nltk_data] Downloading package punkt to /root/nltk_data...\n",
            "[nltk_data]   Package punkt is already up-to-date!\n"
          ],
          "name": "stdout"
        },
        {
          "output_type": "execute_result",
          "data": {
            "text/plain": [
              "True"
            ]
          },
          "metadata": {
            "tags": []
          },
          "execution_count": 9
        }
      ]
    },
    {
      "cell_type": "code",
      "metadata": {
        "id": "n_iUxGxeQ7Jb",
        "colab_type": "code",
        "colab": {
          "base_uri": "https://localhost:8080/",
          "height": 139
        },
        "outputId": "187af08f-b0ee-4904-ac4f-35504f83c8b9"
      },
      "source": [
        "pip install num2words"
      ],
      "execution_count": 8,
      "outputs": [
        {
          "output_type": "stream",
          "text": [
            "Collecting num2words\n",
            "\u001b[?25l  Downloading https://files.pythonhosted.org/packages/eb/a2/ea800689730732e27711c41beed4b2a129b34974435bdc450377ec407738/num2words-0.5.10-py3-none-any.whl (101kB)\n",
            "\r\u001b[K     |███▎                            | 10kB 26.4MB/s eta 0:00:01\r\u001b[K     |██████▌                         | 20kB 3.6MB/s eta 0:00:01\r\u001b[K     |█████████▊                      | 30kB 4.8MB/s eta 0:00:01\r\u001b[K     |█████████████                   | 40kB 5.2MB/s eta 0:00:01\r\u001b[K     |████████████████▏               | 51kB 4.2MB/s eta 0:00:01\r\u001b[K     |███████████████████▍            | 61kB 4.7MB/s eta 0:00:01\r\u001b[K     |██████████████████████▋         | 71kB 5.1MB/s eta 0:00:01\r\u001b[K     |█████████████████████████▉      | 81kB 5.5MB/s eta 0:00:01\r\u001b[K     |█████████████████████████████   | 92kB 5.9MB/s eta 0:00:01\r\u001b[K     |████████████████████████████████| 102kB 3.9MB/s \n",
            "\u001b[?25hRequirement already satisfied: docopt>=0.6.2 in /usr/local/lib/python3.6/dist-packages (from num2words) (0.6.2)\n",
            "Installing collected packages: num2words\n",
            "Successfully installed num2words-0.5.10\n"
          ],
          "name": "stdout"
        }
      ]
    },
    {
      "cell_type": "code",
      "metadata": {
        "id": "ZWynYMRGxvNJ",
        "colab_type": "code",
        "colab": {}
      },
      "source": [
        "#importing Libraries\n",
        "\n",
        "from nltk.stem import PorterStemmer\n",
        "#from num2words import num2words\n",
        "import numpy as np\n",
        "import pandas as pd\n",
        "from nltk.tokenize import sent_tokenize\n",
        "from nltk.tokenize import RegexpTokenizer\n",
        "import re\n",
        "\n",
        "ps = PorterStemmer() \n",
        "\n"
      ],
      "execution_count": 10,
      "outputs": []
    },
    {
      "cell_type": "code",
      "metadata": {
        "id": "TC8vVT9RHB6_",
        "colab_type": "code",
        "colab": {
          "base_uri": "https://localhost:8080/",
          "height": 442
        },
        "outputId": "4302adeb-9de7-4109-c038-1af051b36de5"
      },
      "source": [
        "##Print the number of words and sentences contained in the file given as input.\n",
        "##Print the number of words starting with consonants and the number of words starting with vowels in the file given as input.\n",
        "##List all the email ids in the file given as input.\n",
        "\n",
        "try:\n",
        "  print(\"Name of the available folders\")\n",
        "  print(\"1. rec.motorcycles\")\n",
        "  print(\"2. sci.med\")\n",
        "  ch=input(\"Enter your choice (1/2)\")\n",
        "  file_name=input(\"Enter name of file\")\n",
        "  if ch=='1':\n",
        "    temp=\"drive/My Drive/20_newsgroups (1)/20_newsgroups/rec.motorcycles/\"+file_name\n",
        "  else:\n",
        "    temp=\"drive/My Drive/20_newsgroups (1)/20_newsgroups/sci.med/\"+file_name  \n",
        "  file = open(temp, \"rt\")\n",
        "  data = file.read()\n",
        "\n",
        "  ## Number of Words\n",
        "  words = data.split()\n",
        "  print(\"Number of Words\",len(words))\n",
        "  L=['a','e','i','o','u','A','E','I','O','U']\n",
        "  V=0\n",
        "  C=0\n",
        "  for word in words:\n",
        "    if word[0] in L:\n",
        "      V=V+1\n",
        "    else:\n",
        "      if word[0].isalpha() :\n",
        "        C=C+1\n",
        "\n",
        "  ## Number of Sentences\n",
        "  S = data.split(\"\\n\\n\")\n",
        "  nos = 0\n",
        "  for i in range(1,len(S)):\n",
        "    sentences = sent_tokenize(S[i])\n",
        "    nos+=len(sentences)\n",
        "  print(\"\")  \n",
        "  print(\"Number of Sentences: \",nos)\n",
        "  print(\"\")\n",
        "  ## Number of Vowels & Consonants\n",
        "  print(\"Number of Vowels: \",V)\n",
        "  print(\"\")\n",
        "  print(\"Number of Consonants: \",C)\n",
        "  print(\"\")\n",
        "  ## List all the email ids in the file given as input\n",
        "  print(\"List of Email IDs\")\n",
        "  print(\"------------------\")\n",
        "  for word in words:\n",
        "    if  re.match(r\"[^@]+@[^@]+\\.[^@]+\", word):\n",
        "      print(word)\n",
        "      print(\"...\")\n",
        "except:\n",
        "  print(\"Some exception occured\")  "
      ],
      "execution_count": 13,
      "outputs": [
        {
          "output_type": "stream",
          "text": [
            "Name of the available folders\n",
            "1. rec.motorcycles\n",
            "2. sci.med\n",
            "Enter your choice (1/2)1\n",
            "Enter name of file104942\n",
            "Number of Words 388\n",
            "\n",
            "Number of Sentences:  37\n",
            "\n",
            "Number of Vowels:  86\n",
            "\n",
            "Number of Consonants:  258\n",
            "\n",
            "List of Email IDs\n",
            "------------------\n",
            "ryan_cousineau@compdyn.questor.org\n",
            "...\n",
            "<9800.97.uupcb@compdyn.questor.org>\n",
            "...\n",
            "ryan_cousineau@compdyn.questor.org\n",
            "...\n",
            "<cd1i+@andrew.cmu.edu>\n",
            "...\n",
            "ryan.cousineau@compdyn.questor.org\n",
            "...\n"
          ],
          "name": "stdout"
        }
      ]
    },
    {
      "cell_type": "code",
      "metadata": {
        "id": "_iIaraTUo9Js",
        "colab_type": "code",
        "colab": {
          "base_uri": "https://localhost:8080/",
          "height": 306
        },
        "outputId": "66f34650-a483-4d65-cda0-38e92fee6752"
      },
      "source": [
        "##Print the sentences and number of sentences starting with a given word in an input file.\n",
        "\n",
        "try:\n",
        "  print(\"Name of the available folders\")\n",
        "  print(\"1. rec.motorcycles\")\n",
        "  print(\"2. sci.med\")\n",
        "  ch=input(\"Enter your choice (1/2)\")\n",
        "  file_name=input(\"Enter name of file\")\n",
        "  if ch=='1':\n",
        "    temp=\"drive/My Drive/20_newsgroups (1)/20_newsgroups/rec.motorcycles/\"+file_name\n",
        "  else:\n",
        "    temp=\"drive/My Drive/20_newsgroups (1)/20_newsgroups/sci.med/\"+file_name  \n",
        "  file = open(temp, \"rt\")\n",
        "  data = file.read()\n",
        "\n",
        "  string = input(\"Please enter the starting word of the sentence \")\n",
        "  if string.isdigit():\n",
        "    string=ps.stem(num2words(string))\n",
        "  else:\n",
        "    string=ps.stem((string))\n",
        "\n",
        "  S = data.split(\"\\n\\n\")\n",
        "  count=0\n",
        "  for i in range(1,len(S)):\n",
        "    sentences = sent_tokenize(S[i])\n",
        "    for sentence in sentences:\n",
        "      WORDS=sentence.split()\n",
        "      GLOBAL=[]\n",
        "      for w in WORDS:\n",
        "          \n",
        "        if w.isdigit():\n",
        "          GLOBAL.append(ps.stem(num2words(w)))\n",
        "          #print(ps.stem(num2words(w)))\n",
        "        else:\n",
        "          GLOBAL.append(ps.stem(w))\n",
        "          #print(ps.stem(w))\n",
        "      if len(GLOBAL)!=0:\n",
        "        if GLOBAL[0]==string:\n",
        "          print(sentence)\n",
        "          print(\"...\")\n",
        "          print(\"\")\n",
        "          count=count+1\n",
        "\n",
        "  print(\"Number of such sentences: \",count)\n",
        "\n",
        "except:\n",
        "  print(\"Some Exception occured\")"
      ],
      "execution_count": 17,
      "outputs": [
        {
          "output_type": "stream",
          "text": [
            "Name of the available folders\n",
            "1. rec.motorcycles\n",
            "2. sci.med\n",
            "Enter your choice (1/2)2\n",
            "Enter name of file58070\n",
            "Please enter the starting word of the sentence The\n",
            "The differential diagnosis between migraine and non-migranous pain\n",
            "is not *always* important, because some therapies are effective in\n",
            "both (e.g., tricyclic antidepressants such as amitriptyline,\n",
            "non-steroidal anti-inflammatory drugs such as ibuprofen).\n",
            "...\n",
            "\n",
            "The most important thing, from your perspective, is that you got\n",
            "relief.\n",
            "...\n",
            "\n",
            "Number of such sentences:  2\n"
          ],
          "name": "stdout"
        }
      ]
    },
    {
      "cell_type": "code",
      "metadata": {
        "id": "qWUKpX-lykYO",
        "colab_type": "code",
        "colab": {
          "base_uri": "https://localhost:8080/",
          "height": 340
        },
        "outputId": "eaaefb22-8517-4692-a760-82d2557be6e5"
      },
      "source": [
        "## Print the sentences and number of sentences ending with a given word in an input file.\n",
        "\n",
        "try:\n",
        "\n",
        "  print(\"Name of the available folders\")\n",
        "  print(\"1. rec.motorcycles\")\n",
        "  print(\"2. sci.med\")\n",
        "  ch=input(\"Enter your choice (1/2) \")\n",
        "  file_name=input(\"Enter name of file \")\n",
        "  if ch=='1':\n",
        "    temp=\"drive/My Drive/20_newsgroups (1)/20_newsgroups/rec.motorcycles/\"+file_name\n",
        "  else:\n",
        "    temp=\"drive/My Drive/20_newsgroups (1)/20_newsgroups/sci.med/\"+file_name  \n",
        "  file = open(temp, \"rt\")\n",
        "  data = file.read()\n",
        "\n",
        "  string = input(\"Please enter the ending word of the sentence \")\n",
        "  if string.isdigit():\n",
        "    string=ps.stem(num2words(string))\n",
        "  else:\n",
        "    string=ps.stem((string))\n",
        "\n",
        "  S = data.split(\"\\n\\n\")\n",
        "  count=0\n",
        "  for i in range(1,len(S)):\n",
        "    sentences = sent_tokenize(S[i])\n",
        "    for sentence in sentences:\n",
        "      #WORDS=sentence.split()\n",
        "      WORDS = (re.findall(r'\\w+', sentence))\n",
        "      GLOBAL=[]\n",
        "      for w in WORDS:\n",
        "        \n",
        "        if w.isdigit():\n",
        "          GLOBAL.append(ps.stem(num2words(w)))\n",
        "          #print(ps.stem(num2words(w)))\n",
        "        else:\n",
        "          GLOBAL.append(ps.stem(w))\n",
        "          #print(ps.stem(w))\n",
        "\n",
        "      if len(GLOBAL)!=0:   \n",
        "        if GLOBAL[-1]==string:\n",
        "          print(sentence)\n",
        "          print(\"...\")\n",
        "          print(\"\")\n",
        "          count=count+1\n",
        "\n",
        "  print(\"Number of such sentences: \",count)\n",
        "\n",
        "except:\n",
        "  print(\"some exceptions occured\")"
      ],
      "execution_count": 18,
      "outputs": [
        {
          "output_type": "stream",
          "text": [
            "Name of the available folders\n",
            "1. rec.motorcycles\n",
            "2. sci.med\n",
            "Enter your choice (1/2) 2\n",
            "Enter name of file 58066\n",
            "Please enter the ending word of the sentence disease\n",
            "His father died\n",
            "of the disease.\n",
            "...\n",
            "\n",
            "I know really\n",
            "nothing about the disease.\n",
            "...\n",
            "\n",
            "What are some \n",
            "modern therapies used in people with this disease?\n",
            "...\n",
            "\n",
            "Number of such sentences:  3\n"
          ],
          "name": "stdout"
        }
      ]
    },
    {
      "cell_type": "code",
      "metadata": {
        "id": "mZGqkvYGD440",
        "colab_type": "code",
        "colab": {
          "base_uri": "https://localhost:8080/",
          "height": 340
        },
        "outputId": "444cde45-012a-4abb-c881-bf8a00a8a415"
      },
      "source": [
        "##Given a word and a file as input, print the count of that word and sentences containing that word in the input file\n",
        "\n",
        "try :\n",
        "  print(\"Name of the available folders\")\n",
        "  print(\"1. rec.motorcycles\")\n",
        "  print(\"2. sci.med\")\n",
        "  ch=input(\"Enter your choice (1/2)\")\n",
        "  file_name=input(\"Enter name of file\")\n",
        "  if ch=='1':\n",
        "    temp=\"drive/My Drive/20_newsgroups (1)/20_newsgroups/rec.motorcycles/\"+file_name\n",
        "  else:\n",
        "    temp=\"drive/My Drive/20_newsgroups (1)/20_newsgroups/sci.med/\"+file_name  \n",
        "  file = open(temp, \"rt\")\n",
        "  data = file.read()\n",
        "\n",
        "  string = input(\"Please enter the word of the sentence\")\n",
        "  if string.isdigit():\n",
        "    string=ps.stem(num2words(string))\n",
        "  else:\n",
        "    string=ps.stem((string))\n",
        "  S = data.split(\"\\n\\n\")\n",
        "  count=0\n",
        "  for i in range(1,len(S)):\n",
        "    sentences = sent_tokenize(S[i])\n",
        "    for sentence in sentences:\n",
        "      #WORDS=sentence.split()\n",
        "      WORDS = (re.findall(r'\\w+', sentence))\n",
        "      GLOBAL=[]\n",
        "      for w in WORDS:\n",
        "        \n",
        "        if w.isdigit():\n",
        "          GLOBAL.append(ps.stem(num2words(w)))\n",
        "          #print(ps.stem(num2words(w)))\n",
        "        else:\n",
        "          GLOBAL.append(ps.stem(w))\n",
        "          #print(ps.stem(w))\n",
        "\n",
        "      \n",
        "      if string in GLOBAL:\n",
        "        print(sentence)\n",
        "        print(\"...\")\n",
        "        print(\"\")\n",
        "        count=count+1\n",
        "\n",
        "  print(\"Number of such sentences: \",count)\n",
        "\n",
        "except:\n",
        "  print(\"Some Exception Occured\")"
      ],
      "execution_count": 19,
      "outputs": [
        {
          "output_type": "stream",
          "text": [
            "Name of the available folders\n",
            "1. rec.motorcycles\n",
            "2. sci.med\n",
            "Enter your choice (1/2)2\n",
            "Enter name of file58066\n",
            "Please enter the word of the sentencedisease\n",
            "His father died\n",
            "of the disease.\n",
            "...\n",
            "\n",
            "I know really\n",
            "nothing about the disease.\n",
            "...\n",
            "\n",
            "What are some \n",
            "modern therapies used in people with this disease?\n",
            "...\n",
            "\n",
            "Number of such sentences:  3\n"
          ],
          "name": "stdout"
        }
      ]
    },
    {
      "cell_type": "code",
      "metadata": {
        "id": "DL1UElkh89EC",
        "colab_type": "code",
        "colab": {
          "base_uri": "https://localhost:8080/",
          "height": 595
        },
        "outputId": "5fc6d101-b467-4b54-e3da-e326606bd85e"
      },
      "source": [
        "#Given an input file, print the questions present, if any, in that file\n",
        "\n",
        "try:\n",
        "  print(\"Name of the available folders\")\n",
        "  print(\"1. rec.motorcycles\")\n",
        "  print(\"2. sci.med\")\n",
        "  ch=input(\"Enter your choice (1/2)\")\n",
        "  file_name=input(\"Enter name of file\")\n",
        "  if ch=='1':\n",
        "    temp=\"drive/My Drive/20_newsgroups (1)/20_newsgroups/rec.motorcycles/\"+file_name\n",
        "  else:\n",
        "    temp=\"drive/My Drive/20_newsgroups (1)/20_newsgroups/sci.med/\"+file_name  \n",
        "  file = open(temp, \"rt\")\n",
        "  data = file.read()\n",
        "\n",
        "  S = data.split(\"\\n\\n\")\n",
        "  count=0\n",
        "  for i in range(1,len(S)):\n",
        "    sentences = sent_tokenize(S[i])\n",
        "    for sentence in sentences:\n",
        "      #WORDS=sentence.split()\n",
        "      WORDS = WORDS=sentence.split()\n",
        "      #print(WORDS[-1][-1])\n",
        "      if WORDS[-1][-1]==\"?\":\n",
        "        print(sentence)\n",
        "        print(\"...\")\n",
        "        print(\"\")\n",
        "        count=count+1\n",
        "\n",
        "  print(\"Number of such sentences: \",count)\n",
        "\n",
        "except:\n",
        "  print(\"Some Exception occured\")"
      ],
      "execution_count": 21,
      "outputs": [
        {
          "output_type": "stream",
          "text": [
            "Name of the available folders\n",
            "1. rec.motorcycles\n",
            "2. sci.med\n",
            "Enter your choice (1/2)1\n",
            "Enter name of file104942\n",
            "CBD>Did you notice he only takes the bike out in the snow or rain?\n",
            "...\n",
            "\n",
            "He drags his knee in corners (thanks, Cookson, but how does he do it?\n",
            "...\n",
            "\n",
            "Hidden Bat-pucks?\n",
            "...\n",
            "\n",
            "Could it be that we're\n",
            "dealing with a veritable airborne mammalian poseur?\n",
            "...\n",
            "\n",
            "Dare I say it, a\n",
            "BAT-SQUID??\n",
            "...\n",
            "\n",
            "(huh?\n",
            "...\n",
            "\n",
            "Actually, anyone have an address for Batman's current artists, both\n",
            "comic book and animated series?\n",
            "...\n",
            "\n",
            "Special To The KoTL: Is there a precedent for inducting an imaginary\n",
            "member with an imaginary motorcycle?\n",
            "...\n",
            "\n",
            "Number of such sentences:  8\n"
          ],
          "name": "stdout"
        }
      ]
    },
    {
      "cell_type": "code",
      "metadata": {
        "id": "UoXzss6z-09x",
        "colab_type": "code",
        "colab": {
          "base_uri": "https://localhost:8080/",
          "height": 119
        },
        "outputId": "12c479f6-c53c-4161-9910-d8072ef33ffb"
      },
      "source": [
        "# List the minutes and seconds mentioned in the date present in the file given as input.\n",
        "# (For instance, for the date - Tue, 20 Apr 1993 17:51:16 GMT, the output should be 51\n",
        "# min, 16 sec)\n",
        "\n",
        "try:\n",
        "  print(\"Name of the available folders\")\n",
        "  print(\"1. rec.motorcycles\")\n",
        "  print(\"2. sci.med\")\n",
        "  ch=input(\"Enter your choice (1/2)\")\n",
        "  file_name=input(\"Enter name of file\")\n",
        "  if ch=='1':\n",
        "    temp=\"drive/My Drive/20_newsgroups (1)/20_newsgroups/rec.motorcycles/\"+file_name\n",
        "  else:\n",
        "    temp=\"drive/My Drive/20_newsgroups (1)/20_newsgroups/sci.med/\"+file_name  \n",
        "  file = open(temp, \"rt\")\n",
        "  data = file.read()\n",
        "  words = data.split()\n",
        "\n",
        "  for word in words:\n",
        "    if  re.match(r\"([01]?[0-9]|2[0-3]):[0-5][0-9]:[0-5][0-9]\", word):\n",
        "      I1=-1\n",
        "      I2=-1\n",
        "      for i in range(0,len(word)):\n",
        "        if word[i]==\":\" and I1==-1:\n",
        "          I1=i\n",
        "        else:\n",
        "          if word[i]==\":\" and I1!=-1:\n",
        "            I2=i\n",
        "      print(word[I1+1:I2],\" Min and \",word[I2+1:],\" sec\")  \n",
        "\n",
        "except:\n",
        "  print(\"Some exception occured\")"
      ],
      "execution_count": null,
      "outputs": [
        {
          "output_type": "stream",
          "text": [
            "Name of the available folders\n",
            "1. rec.motorcycles\n",
            "2. sci.med\n",
            "Enter your choice (1/2)2\n",
            "Enter name of file58070\n",
            "36  Min and  00  sec\n"
          ],
          "name": "stdout"
        }
      ]
    },
    {
      "cell_type": "code",
      "metadata": {
        "id": "n7Xt-zzlDzqb",
        "colab_type": "code",
        "colab": {
          "base_uri": "https://localhost:8080/",
          "height": 119
        },
        "outputId": "863ebd32-8f68-4fd4-a091-e2d0a4187ddb"
      },
      "source": [
        "##List the abbreviations present in a file given as input.\n",
        "\n",
        "try:\n",
        "  print(\"Name of the available folders\")\n",
        "  print(\"1. rec.motorcycles\")\n",
        "  print(\"2. sci.med\")\n",
        "  ch=input(\"Enter your choice (1/2)\")\n",
        "  file_name=input(\"Enter name of file\")\n",
        "  if ch=='1':\n",
        "    temp=\"drive/My Drive/20_newsgroups (1)/20_newsgroups/rec.motorcycles/\"+file_name\n",
        "  else:\n",
        "    temp=\"drive/My Drive/20_newsgroups (1)/20_newsgroups/sci.med/\"+file_name  \n",
        "  file = open(temp, \"rt\")\n",
        "  data = file.read()\n",
        "  tokenizer = RegexpTokenizer(r'\\w+')\n",
        "\n",
        "  words = data.split()\n",
        "  data=data.replace('.','')\n",
        "  words=tokenizer.tokenize(data)\n",
        "  Res=[]        \n",
        "  for word in words:\n",
        "    \n",
        "    if re.match(r\"\\b[A-Z][0-9a-zA-Z\\.]*[A-Z]\\b\\.?\", word):\n",
        "      Res.append(word)\n",
        "\n",
        "  Res=set(Res)\n",
        "  print(Res)\n",
        "\n",
        "except:\n",
        "  print(\"some exception occured\")"
      ],
      "execution_count": 11,
      "outputs": [
        {
          "output_type": "stream",
          "text": [
            "Name of the available folders\n",
            "1. rec.motorcycles\n",
            "2. sci.med\n",
            "Enter your choice (1/2)1\n",
            "Enter name of file104942\n",
            "{'SLMR', 'COMPUTER', 'KotRB', 'DYNAMICS', 'ID', 'DoD', 'SEE', 'GMT', 'BBS', 'BC', 'AJS', 'KoTL', 'HST', 'CBD', 'SQUID', 'BAT'}\n"
          ],
          "name": "stdout"
        }
      ]
    }
  ]
}